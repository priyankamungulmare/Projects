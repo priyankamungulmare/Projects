{
 "cells": [
  {
   "cell_type": "markdown",
   "id": "1cbcb4ec",
   "metadata": {},
   "source": [
    "# Bio-Signal Analysis for Smoking\n",
    "# Agenda\n",
    "**01 Importing the Libraries**\n",
    "\n",
    "**02 Loading the Data**\n",
    "\n",
    "**03 Data Cleaning**\n",
    "\n",
    "**04 One Hot Encoding**\n",
    "\n",
    "**05 Feature Selection** \n",
    "\n",
    "**06 Bagging Algorithms**\n"
   ]
  },
  {
   "cell_type": "markdown",
   "id": "576d34a4",
   "metadata": {},
   "source": [
    "# Problem Statement\n",
    "**Over the years, the company has \n",
    "collected details and gathered a lot of \n",
    "information about individuals. The \n",
    "management wants to build an intelligent \n",
    "system from the data to determine the \n",
    "presence or absence of smoking in a person \n",
    "through bio-signals. Given a person’s \n",
    "information, build a machine learning model \n",
    "that can classify the presence or absence of \n",
    "smoking.**\n",
    "\n",
    "# Dataset Information\n",
    "**This dataset is a collection of basic health biological signal data which\n",
    "contains around 55K record with 27 attributes.**\n",
    "\n",
    "# Importing the Libraries\n",
    "**We start off this project by importing all the necessary\n",
    "libraries that will be required for the process.**\n",
    "\n",
    "\n"
   ]
  },
  {
   "cell_type": "code",
   "execution_count": null,
   "id": "238e4681",
   "metadata": {},
   "outputs": [],
   "source": [
    "import pandas as pd\n",
    "import matplotlib.pyplot as plt\n",
    "import numpy as np\n",
    "import seaborn as sns"
   ]
  },
  {
   "cell_type": "markdown",
   "id": "d0fb5d89",
   "metadata": {},
   "source": [
    "# Loading the Data\n",
    "**Loading the data and removing the irrelevant columns.**\n"
   ]
  },
  {
   "cell_type": "code",
   "execution_count": null,
   "id": "0cb2eb19",
   "metadata": {},
   "outputs": [],
   "source": [
    "df = pd.read_csv(\"C:\\\\Users\\\\91959\\\\Downloads\\\\smoking.csv\")\n",
    "df = df.drop(columns=['ID','oral'])\n",
    "df.head()"
   ]
  },
  {
   "cell_type": "markdown",
   "id": "03d93960",
   "metadata": {},
   "source": [
    "# Loading the Data\n",
    "**Checking the shape of a dataframe and datatypes of all columns \n",
    "along with calculating the statistical data.**\n"
   ]
  },
  {
   "cell_type": "code",
   "execution_count": null,
   "id": "f3c02cd2",
   "metadata": {},
   "outputs": [],
   "source": [
    "df.shape"
   ]
  },
  {
   "cell_type": "code",
   "execution_count": null,
   "id": "f26f88bb",
   "metadata": {},
   "outputs": [],
   "source": [
    "df.info()"
   ]
  },
  {
   "cell_type": "code",
   "execution_count": null,
   "id": "bf7f4441",
   "metadata": {},
   "outputs": [],
   "source": [
    "df.describe()"
   ]
  },
  {
   "cell_type": "markdown",
   "id": "80c293b2",
   "metadata": {},
   "source": [
    "# Missing Values \n",
    "**Checking out the missing values in a dataframe**"
   ]
  },
  {
   "cell_type": "code",
   "execution_count": null,
   "id": "37ad15e7",
   "metadata": {},
   "outputs": [],
   "source": [
    "df.isnull().sum()"
   ]
  },
  {
   "cell_type": "markdown",
   "id": "c81f0810",
   "metadata": {},
   "source": [
    "# Data visualization\n",
    "**We can clearly see from the below graph that most smokers are men.**"
   ]
  },
  {
   "cell_type": "code",
   "execution_count": null,
   "id": "cae89d4f",
   "metadata": {},
   "outputs": [],
   "source": [
    "sns.barplot(data=df, x='gender',y='smoking')\n",
    "plt.show()"
   ]
  },
  {
   "cell_type": "code",
   "execution_count": null,
   "id": "cf3cd14d",
   "metadata": {},
   "outputs": [],
   "source": [
    "sns.countplot(data=df, x='gender', hue='smoking')\n",
    "plt.show()"
   ]
  },
  {
   "cell_type": "markdown",
   "id": "b37f9c09",
   "metadata": {},
   "source": [
    "**There are 36.73 percent of the people who are smoking ciggarette.**"
   ]
  },
  {
   "cell_type": "code",
   "execution_count": null,
   "id": "79b669d1",
   "metadata": {},
   "outputs": [],
   "source": [
    "plt.figure(figsize=(10,5))\n",
    "df['smoking'].value_counts().plot.pie(autopct='%0.2f')"
   ]
  },
  {
   "cell_type": "markdown",
   "id": "5c2843af",
   "metadata": {},
   "source": [
    "**Most number of smokers are having the age 40**"
   ]
  },
  {
   "cell_type": "code",
   "execution_count": null,
   "id": "e7eaf085",
   "metadata": {},
   "outputs": [],
   "source": [
    "plt.figure(figsize=(9,6))\n",
    "sns.histplot(data=df, x='age', hue='smoking')\n",
    "plt.xlabel('Age of the population')\n",
    "plt.show()"
   ]
  },
  {
   "cell_type": "markdown",
   "id": "cfe9ae06",
   "metadata": {},
   "source": [
    "**Representation of columns using boxplot to detect outliers. Here outliers represent natural \n",
    "variations in the population, and they should be left as is in the dataset. These are called true \n",
    "outliers. Therefore for this dataset we will not remove outliers.**\n"
   ]
  },
  {
   "cell_type": "code",
   "execution_count": null,
   "id": "f6e0c67f",
   "metadata": {},
   "outputs": [],
   "source": [
    "for i in df.columns:\n",
    "    if (df[i].dtypes=='int64' or df[i].dtypes=='float64'):\n",
    "        sns.boxplot(df[i])\n",
    "    plt.show()\n",
    "    "
   ]
  },
  {
   "cell_type": "markdown",
   "id": "7405a981",
   "metadata": {},
   "source": [
    "# Data Cleaning\n",
    "**Performing One Hot Encoding for \n",
    "categorical features of a dataframe**"
   ]
  },
  {
   "cell_type": "code",
   "execution_count": null,
   "id": "999c23cf",
   "metadata": {},
   "outputs": [],
   "source": [
    "from sklearn.preprocessing import LabelEncoder\n",
    "le = LabelEncoder()\n",
    "df['gender'] = le.fit_transform(df['gender'])\n",
    "df['tartar'] = le.fit_transform(df['tartar'])\n",
    "df['dental caries'] = le.fit_transform(df['dental caries'])"
   ]
  },
  {
   "cell_type": "code",
   "execution_count": null,
   "id": "5a2ef184",
   "metadata": {},
   "outputs": [],
   "source": [
    "df.info()"
   ]
  },
  {
   "cell_type": "markdown",
   "id": "d9b39dc3",
   "metadata": {},
   "source": [
    "\n",
    "# Feature selection using feature importance \n",
    "**Feature importance is a technique \n",
    "that calculate a score for all the \n",
    "input features for a given model. So \n",
    "out of 24 features we will select the \n",
    "top 15 features based on the score.**\n"
   ]
  },
  {
   "cell_type": "code",
   "execution_count": null,
   "id": "33e00265",
   "metadata": {},
   "outputs": [],
   "source": [
    "X = df.iloc[:,:-1]\n",
    "y = df['smoking']\n",
    "\n",
    "from sklearn.ensemble import ExtraTreesClassifier\n",
    "model = ExtraTreesClassifier()\n",
    "model.fit(X,y)\n",
    "df1 = pd.Series(model.feature_importances_, index=X.columns)\n",
    "plt.figure(figsize=(8,8))\n",
    "df1.nlargest(24).plot(kind='barh')\n",
    "plt.show()"
   ]
  },
  {
   "cell_type": "markdown",
   "id": "56426c17",
   "metadata": {},
   "source": [
    "# Logistic Regression\n"
   ]
  },
  {
   "cell_type": "code",
   "execution_count": null,
   "id": "1cd52a47",
   "metadata": {},
   "outputs": [],
   "source": [
    "X = df[['gender','height(cm)','Gtp','hemoglobin','triglyceride','age','weight(kg)','waist(cm)','HDL',\n",
    "        'serum creatinine','ALT','fasting blood sugar','relaxation','LDL','systolic']]\n",
    "y = df['smoking']\n",
    "\n",
    "from sklearn.model_selection import train_test_split\n",
    "x_train,x_test,y_train,y_test = train_test_split(X,y, test_size=0.2, random_state=42)\n",
    "\n"
   ]
  },
  {
   "cell_type": "code",
   "execution_count": null,
   "id": "6826cd3a",
   "metadata": {},
   "outputs": [],
   "source": [
    "from sklearn.preprocessing import StandardScaler\n",
    "sc = StandardScaler()\n",
    "\n",
    "x_train = sc.fit_transform(x_train)\n",
    "x_test = sc.transform(x_test)\n",
    "\n",
    "from sklearn.linear_model import LogisticRegression\n",
    "lr = LogisticRegression()\n",
    "lr.fit(x_train,y_train)\n",
    "y_pred = lr.predict(x_test)\n",
    "      "
   ]
  },
  {
   "cell_type": "markdown",
   "id": "09143008",
   "metadata": {},
   "source": [
    "**Calculating accuracy \n",
    "and generating the \n",
    "classification report \n",
    "of Logistic Regression**\n"
   ]
  },
  {
   "cell_type": "code",
   "execution_count": null,
   "id": "8c5e6b14",
   "metadata": {},
   "outputs": [],
   "source": [
    "from sklearn.metrics import accuracy_score, classification_report\n",
    "print(f'Accuracy Score : {accuracy_score(y_test,y_pred)}')\n",
    "print(classification_report(y_test,y_pred))\n",
    "      "
   ]
  },
  {
   "cell_type": "markdown",
   "id": "6225289a",
   "metadata": {},
   "source": [
    "# Decision Tree\n",
    "**The accuracy of the logistic regression model is\n",
    "78 percentage**\n"
   ]
  },
  {
   "cell_type": "code",
   "execution_count": null,
   "id": "92c00456",
   "metadata": {},
   "outputs": [],
   "source": [
    "from sklearn.tree import DecisionTreeClassifier\n",
    "\n",
    "dt = DecisionTreeClassifier()\n",
    "dt.fit(x_train, y_train)\n",
    "y_pred2 = dt.predict(x_test)\n",
    "print(classification_report(y_test, y_pred2))"
   ]
  },
  {
   "cell_type": "markdown",
   "id": "a1cc4a56",
   "metadata": {},
   "source": [
    "# Bagging Algorithm – Bagging Classifier\n",
    "**Bootstrap Aggregation or bagging involves taking multiple samples from the training dataset \n",
    "(with replacement) and training a model for each sample.**"
   ]
  },
  {
   "cell_type": "code",
   "execution_count": null,
   "id": "8bb5c3e1",
   "metadata": {},
   "outputs": [],
   "source": [
    "from sklearn.ensemble import BaggingClassifier\n",
    "bagging_clf = BaggingClassifier(base_estimator = DecisionTreeClassifier(), n_estimators=1000)\n",
    "\n",
    "bagging_clf.fit(x_train,y_train).score(x_test,y_test)\n",
    "y_pred3 = bagging_clf.predict(x_test)\n",
    "\n",
    "print(classification_report(y_test,y_pred3))"
   ]
  },
  {
   "cell_type": "markdown",
   "id": "791ac600",
   "metadata": {},
   "source": [
    "# Bagging Algorithm – Extra Trees\n"
   ]
  },
  {
   "cell_type": "code",
   "execution_count": null,
   "id": "8956f929",
   "metadata": {},
   "outputs": [],
   "source": [
    "from sklearn.ensemble import ExtraTreesClassifier\n",
    "et = ExtraTreesClassifier(n_estimators=1000, random_state=42)\n",
    "et.fit(x_train,y_train)\n",
    "\n",
    "y_pred4 = et.predict(x_test)\n",
    "print(classification_report(y_test, y_pred4))"
   ]
  },
  {
   "cell_type": "markdown",
   "id": "7d2ed656",
   "metadata": {},
   "source": [
    "# Bagging Algorithm – Random Forest"
   ]
  },
  {
   "cell_type": "code",
   "execution_count": null,
   "id": "b8a39a38",
   "metadata": {},
   "outputs": [],
   "source": [
    "from sklearn.ensemble import RandomForestClassifier\n",
    "rf = RandomForestClassifier(n_estimators = 1000)\n",
    "rf.fit(x_train,y_train)\n",
    "\n",
    "y_pred5 = rf.predict(x_test)\n",
    "print(classification_report(y_test, y_pred5))"
   ]
  },
  {
   "cell_type": "code",
   "execution_count": null,
   "id": "eaeefd44",
   "metadata": {},
   "outputs": [],
   "source": []
  }
 ],
 "metadata": {
  "kernelspec": {
   "display_name": "Python 3",
   "language": "python",
   "name": "python3"
  },
  "language_info": {
   "codemirror_mode": {
    "name": "ipython",
    "version": 3
   },
   "file_extension": ".py",
   "mimetype": "text/x-python",
   "name": "python",
   "nbconvert_exporter": "python",
   "pygments_lexer": "ipython3",
   "version": "3.8.8"
  }
 },
 "nbformat": 4,
 "nbformat_minor": 5
}
